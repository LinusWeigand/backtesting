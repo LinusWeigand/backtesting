{
 "cells": [
  {
   "metadata": {
    "ExecuteTime": {
     "end_time": "2025-08-02T10:51:42.555321Z",
     "start_time": "2025-08-02T10:51:42.550384Z"
    }
   },
   "cell_type": "code",
   "source": [
    "import pandas as pd\n",
    "from enum import Enum\n",
    "import numpy as np\n",
    "import yfinance as yf\n",
    "import random"
   ],
   "id": "3dd1b64956249377",
   "outputs": [],
   "execution_count": 58
  },
  {
   "metadata": {
    "ExecuteTime": {
     "end_time": "2025-08-01T18:18:19.233185Z",
     "start_time": "2025-08-01T18:18:18.744927Z"
    }
   },
   "cell_type": "code",
   "source": [
    "clean_data = yf.download('TSLA', period='max')\n",
    "\n",
    "def make_data_messy(df, missing_rows=100, nan_values=200, zero_volume_days=100, price_shock_factor=2.0):\n",
    "    messy_df = df.copy()\n",
    "    num_records = len(messy_df)\n",
    "\n",
    "    # Deleting rows\n",
    "    drop_indices = random.sample(range(num_records), k=missing_rows)\n",
    "    messy_df.drop(messy_df.index[drop_indices], inplace=True)\n",
    "\n",
    "    # NaN Values\n",
    "    for _ in range(nan_values):\n",
    "        row_index = random.randint(0, len(messy_df) - 1)\n",
    "        col_index = random.choice(['Open', 'High', 'Low', 'Close', 'Volume'])\n",
    "        messy_df.iloc[row_index, messy_df.columns.get_loc(col_index)] = np.nan\n",
    "\n",
    "    # Zero Volume days\n",
    "    zero_volume_days = random.sample(range(len(messy_df)), k=nan_values)\n",
    "    messy_df.iloc[zero_volume_days, messy_df.columns.get_loc('Volume')] = 0\n",
    "\n",
    "    # Sudden large price shock\n",
    "    shock_index = random.randint(len(messy_df) // 4, 3 * len(messy_df) // 4)\n",
    "    for col in ['Open', 'High', 'Low', 'Close']:\n",
    "        messy_df.iloc[shock_index, messy_df.columns.get_loc(col)] *= price_shock_factor\n",
    "\n",
    "    return messy_df\n",
    "\n",
    "messy_data = make_data_messy(df=clean_data)\n",
    "\n",
    "messy_data.to_csv(\"tesla_practice.csv\")"
   ],
   "id": "56b3afa6ff661a5b",
   "outputs": [
    {
     "name": "stderr",
     "output_type": "stream",
     "text": [
      "/var/folders/31/t442qhp12b3c9p0skxbngyf80000gn/T/ipykernel_7608/2878965663.py:1: FutureWarning: YF.download() has changed argument auto_adjust default to True\n",
      "  clean_data = yf.download('TSLA', period='max')\n",
      "[*********************100%***********************]  1 of 1 completed\n"
     ]
    }
   ],
   "execution_count": 8
  },
  {
   "metadata": {
    "ExecuteTime": {
     "end_time": "2025-08-02T10:51:48.404485Z",
     "start_time": "2025-08-02T10:51:48.398528Z"
    }
   },
   "cell_type": "code",
   "source": [
    "def clean_data(df):\n",
    "\n",
    "    # Add missing Dates\n",
    "    date_range = pd.date_range(start=df.index.min(), end=df.index.max(), freq='B')\n",
    "    df = df.reindex(date_range)\n",
    "\n",
    "    # Remove NaNs\n",
    "    df.ffill(inplace=True)\n",
    "    df.bfill(inplace=True)\n",
    "\n",
    "    return df"
   ],
   "id": "bc3bb08ab432875e",
   "outputs": [],
   "execution_count": 59
  },
  {
   "metadata": {
    "ExecuteTime": {
     "end_time": "2025-08-02T10:51:50.096376Z",
     "start_time": "2025-08-02T10:51:50.091486Z"
    }
   },
   "cell_type": "code",
   "source": [
    "def read_csv(filename):\n",
    "    column_names = ['Date', 'Close', 'High', 'Low', 'Open', 'Volume']\n",
    "\n",
    "    df = pd.read_csv(\n",
    "        filename,\n",
    "        skiprows=3,\n",
    "        header=None,\n",
    "        names=column_names,\n",
    "        index_col='Date',\n",
    "        parse_dates=True,\n",
    "    )\n",
    "\n",
    "    return df"
   ],
   "id": "48444e170c44df2f",
   "outputs": [],
   "execution_count": 60
  },
  {
   "metadata": {
    "ExecuteTime": {
     "end_time": "2025-08-02T11:33:41.465859Z",
     "start_time": "2025-08-02T11:33:41.296680Z"
    }
   },
   "cell_type": "code",
   "source": [
    "tesla = read_csv('tesla_practice.csv')\n",
    "\n",
    "tesla = clean_data(tesla)\n",
    "\n",
    "tesla['Close'].plot(logy=True)"
   ],
   "id": "7267ae300905dc98",
   "outputs": [
    {
     "data": {
      "text/plain": [
       "<Axes: >"
      ]
     },
     "execution_count": 68,
     "metadata": {},
     "output_type": "execute_result"
    },
    {
     "data": {
      "text/plain": [
       "<Figure size 640x480 with 1 Axes>"
      ],
      "image/png": "[encoded data removed]"
     },
     "metadata": {},
     "output_type": "display_data"
    }
   ],
   "execution_count": 68
  },
  {
   "metadata": {
    "ExecuteTime": {
     "end_time": "2025-08-02T12:15:13.203870Z",
     "start_time": "2025-08-02T12:15:13.166696Z"
    }
   },
   "cell_type": "code",
   "source": [
    "df = pd.DataFrame({'close': tesla['Close'], 'open': tesla['Open']})\n",
    "\n",
    "df['short_ma'] = df['close'].ewm(span=50, adjust=False).mean()\n",
    "df['long_ma'] = df['close'].rolling(200).mean()\n",
    "\n",
    "conditions = [\n",
    "    df['short_ma'] > df['long_ma'],\n",
    "    df['short_ma'] < df['long_ma'],\n",
    "]\n",
    "signal_choices = [1, -1]\n",
    "df['signal'] = np.select(conditions, signal_choices, default=0)\n",
    "\n",
    "# We dont care about the first entry being NaN because of warmup period\n",
    "df['lagged_signal'] = df['signal'].shift(1)\n",
    "\n",
    "df['open_to_next_open_return'] = df['open'].pct_change().shift(-1)\n",
    "\n",
    "strategy_conditions = [\n",
    "    df['lagged_signal'] == 1,\n",
    "    df['lagged_signal'] == -1\n",
    "]\n",
    "\n",
    "strategy_return_choices = [\n",
    "    df['open_to_next_open_return'],\n",
    "    (1 / (1 + df['open_to_next_open_return'])) - 1\n",
    "]\n",
    "df['strategy_return'] = np.select(strategy_conditions, strategy_return_choices, default=0)\n",
    "\n",
    "# Remove Warmup Period\n",
    "df = df.iloc[200:].copy()\n",
    "\n",
    "# last row of open_to_next_open_return and strategy_return are NaN\n",
    "if pd.isna(df['open_to_next_open_return'].iloc[-1]):\n",
    "    df.loc[df.index[-1], 'open_to_next_open_return'] = 0\n",
    "\n",
    "if pd.isna(df['strategy_return'].iloc[-1]):\n",
    "    df.loc[df.index[-1], 'strategy_return'] = 0\n",
    "\n",
    "trade_days = df[df['lagged_signal'].diff().ne(0)].copy()\n",
    "first_day = df.iloc[:1]\n",
    "if first_day.index[0] not in trade_days.index:\n",
    "    trade_days = pd.concat([first_day, trade_days]).sort_index()\n",
    "\n",
    "trades_df = pd.DataFrame({\n",
    "    'position': trade_days['lagged_signal'],\n",
    "    'entry_date': trade_days.index,\n",
    "    'entry_price': trade_days['open']\n",
    "})\n",
    "\n",
    "trades_df['exit_date'] = trades_df['entry_date'].shift(-1)\n",
    "trades_df['exit_price'] = trades_df['entry_price'].shift(-1)\n",
    "\n",
    "if not trades_df.empty:\n",
    "    trades_df.loc[trades_df.index[-1], 'exit_date'] = df.index[-1]\n",
    "    trades_df.loc[trades_df.index[-1], 'exit_price'] = df['open'].iloc[-1]\n",
    "\n",
    "trades_df = trades_df[trades_df['position'] != 0].copy()\n",
    "\n",
    "if not trades_df.empty:\n",
    "    trades_df['pnl'] = np.where(\n",
    "        trades_df['position'] == 1,\n",
    "        trades_df['exit_price'] / trades_df['entry_price'],\n",
    "        trades_df['entry_price'] / trades_df['exit_price']\n",
    "    )\n",
    "    trades_df['duration'] = trades_df['exit_date'] - trades_df['entry_date']\n",
    "\n",
    "    wins = trades_df[trades_df['pnl'] > 1].shape[0]\n",
    "    losses = trades_df[trades_df['pnl'] < 1].shape[0]\n",
    "    win_loss_ratio = wins / losses if losses != 0 else float('inf')\n",
    "    avg_duration = trades_df['duration'].mean()\n",
    "    min_duration = trades_df['duration'].min()\n",
    "    max_duration = trades_df['duration'].max()\n",
    "else:\n",
    "    no_time = pd.Timedelta(0)\n",
    "    wins, losses, win_loss_ratio, avg_duration, min_duration, max_duration = 0, 0, 0, no_time, no_time, no_time\n",
    "\n",
    "trades_pnl = trades_df['pnl'].prod()\n",
    "\n",
    "best_trade = trades_df['pnl'].max()\n",
    "worst_trade = trades_df['pnl'].min()\n",
    "avg_trade = trades_df['pnl'].mean()\n",
    "\n",
    "pnl_from_daily_returns = (1 + df['strategy_return']).prod()\n",
    "\n",
    "# Sharpe Ratio\n",
    "risk_free_rate = 0.045\n",
    "daily_risk_free_rate = risk_free_rate / 365\n",
    "excess_returns = df['strategy_return'] - daily_risk_free_rate\n",
    "mean_return = excess_returns.mean()\n",
    "std_return = excess_returns.std()\n",
    "sharpe_ratio = 0.\n",
    "if std_return > 0:\n",
    "    sharpe_ratio = (mean_return / std_return) * np.sqrt(252)\n",
    "\n",
    "# Sortino Ratio\n",
    "neg_excess_returns = excess_returns[excess_returns < 1]\n",
    "downside_std = neg_excess_returns.std()\n",
    "sortino_ratio = np.inf\n",
    "if downside_std > 0:\n",
    "    sortino_ratio = (mean_return / downside_std) * np.sqrt(252)\n",
    "\n",
    "# Plot strategy performance / equity curve\n",
    "df['cumulative_return'] = (1 + df['strategy_return']).cumprod()\n",
    "\n",
    "# Max Drawdown\n",
    "running_max = df['cumulative_return'].expanding().max()\n",
    "drawdown = (df['cumulative_return'] / running_max) - 1\n",
    "max_drawdown = drawdown.min()\n",
    "\n",
    "print(f\"Total return from Trades: {trades_pnl:.4f}\")\n",
    "print(f\"Total return from daily returns: {pnl_from_daily_returns:.4f}\")\n",
    "\n",
    "print(f\"Win/Loss Ratio: {win_loss_ratio:.2f} ({wins} wins / {losses} losses)\")\n",
    "print(f\"Min duration: {min_duration}\")\n",
    "print(f\"Avg duration: {avg_duration}\")\n",
    "print(f\"Max duration: {max_duration}\")\n",
    "\n",
    "print(f\"Best Trade: {best_trade}\")\n",
    "print(f\"Worst Trade: {worst_trade}\")\n",
    "print(f\"Avg Trade: {avg_trade}\")\n",
    "\n",
    "print(f\"Sharpe Ratio: {sharpe_ratio}\")\n",
    "print(f\"Sharpe Ratio: {sortino_ratio}\")\n",
    "\n",
    "print(f\"Max Drawdown: {max_drawdown}\")\n",
    "\n"
   ],
   "id": "7168118cd486426f",
   "outputs": [
    {
     "name": "stdout",
     "output_type": "stream",
     "text": [
      "Total return from Trades: 4.1267\n",
      "Total return from daily returns: 4.1267\n",
      "Win/Loss Ratio: 0.25 (6 wins / 24 losses)\n",
      "Min duration: 3 days 00:00:00\n",
      "Avg duration: 174 days 09:36:00\n",
      "Max duration: 754 days 00:00:00\n",
      "Best Trade: 10.486262199680572\n",
      "Worst Trade: 0.7068666926879057\n",
      "Avg Trade: 1.4155521127296056\n",
      "Sharpe Ratio: 0.40703537732076495\n",
      "Sharpe Ratio: 0.4536931357294762\n",
      "Max Drawdown: -0.8617206296772006\n"
     ]
    }
   ],
   "execution_count": 85
  }
 ],
 "metadata": {
  "kernelspec": {
   "display_name": "Python 3",
   "language": "python",
   "name": "python3"
  },
  "language_info": {
   "codemirror_mode": {
    "name": "ipython",
    "version": 2
   },
   "file_extension": ".py",
   "mimetype": "text/x-python",
   "name": "python",
   "nbconvert_exporter": "python",
   "pygments_lexer": "ipython2",
   "version": "2.7.6"
  }
 },
 "nbformat": 4,
 "nbformat_minor": 5
}
